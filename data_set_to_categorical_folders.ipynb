{
 "cells": [
  {
   "cell_type": "code",
   "execution_count": 3,
   "metadata": {},
   "outputs": [],
   "source": [
    "data_loc = r\"C:\\Users\\User\\PycharmProjects\\PlantPathology\\data\\\\\"\n",
    "import os\n",
    "import sys\n",
    "from shutil import copyfile\n",
    "import numpy as np\n",
    "from sklearn.model_selection import train_test_split"
   ]
  },
  {
   "cell_type": "code",
   "execution_count": 4,
   "metadata": {},
   "outputs": [],
   "source": [
    "import pandas as pd\n",
    "train_df = pd.read_csv(data_loc + \"\\\\train.csv\")\n",
    "train_df, valid_df = train_test_split(train_df)"
   ]
  },
  {
   "cell_type": "code",
   "execution_count": 6,
   "metadata": {},
   "outputs": [],
   "source": [
    "cats = train_df.columns[1:]"
   ]
  },
  {
   "cell_type": "code",
   "execution_count": 9,
   "metadata": {},
   "outputs": [],
   "source": [
    "by_cat_dir = data_loc + \"imagesby_cat\"\n",
    "if not os.path.isdir(by_cat_dir):\n",
    "    os.mkdir(by_cat_dir)\n",
    "    \n",
    "for name,df in (('train',train_df),('validation',valid_df)):\n",
    "    set_dir_name = f\"{by_cat_dir}\\\\{name}\"\n",
    "    if not os.path.isdir(set_dir_name): \n",
    "        os.mkdir(set_dir_name)\n",
    "\n",
    "    for cat in cats:\n",
    "        dir_name = set_dir_name + \"\\\\\" + cat\n",
    "        if not os.path.isdir(dir_name):\n",
    "            os.mkdir(dir_name)\n",
    "        imagas = df[df[cat]==1].image_id\n",
    "        for im in imagas:\n",
    "            copyfile(f\"{data_loc}\\\\images\\\\{im}.jpg\", f\"{dir_name}\\\\{im}.jpg\")"
   ]
  },
  {
   "cell_type": "code",
   "execution_count": 13,
   "metadata": {},
   "outputs": [
    {
     "data": {
      "text/plain": [
       "healthy              0.263158\n",
       "multiple_diseases    0.043860\n",
       "rust                 0.368421\n",
       "scab                 0.324561\n",
       "dtype: float64"
      ]
     },
     "execution_count": 13,
     "metadata": {},
     "output_type": "execute_result"
    }
   ],
   "source": [
    "df.mean()\n"
   ]
  },
  {
   "cell_type": "code",
   "execution_count": 14,
   "metadata": {},
   "outputs": [
    {
     "data": {
      "text/plain": [
       "healthy              0.290110\n",
       "multiple_diseases    0.052015\n",
       "rust                 0.332601\n",
       "scab                 0.325275\n",
       "dtype: float64"
      ]
     },
     "execution_count": 14,
     "metadata": {},
     "output_type": "execute_result"
    }
   ],
   "source": [
    "train_df.mean()"
   ]
  },
  {
   "cell_type": "code",
   "execution_count": 16,
   "metadata": {},
   "outputs": [
    {
     "data": {
      "text/plain": [
       "256"
      ]
     },
     "execution_count": 16,
     "metadata": {},
     "output_type": "execute_result"
    }
   ],
   "source": [
    "2**8"
   ]
  },
  {
   "cell_type": "code",
   "execution_count": null,
   "metadata": {},
   "outputs": [],
   "source": []
  }
 ],
 "metadata": {
  "kernelspec": {
   "display_name": "Python 3",
   "language": "python",
   "name": "python3"
  }
 },
 "nbformat": 4,
 "nbformat_minor": 2
}
